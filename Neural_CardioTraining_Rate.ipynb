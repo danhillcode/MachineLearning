{
  "nbformat": 4,
  "nbformat_minor": 0,
  "metadata": {
    "colab": {
      "name": "Neural_Training_rate.ipynb",
      "provenance": [],
      "collapsed_sections": [],
      "authorship_tag": "ABX9TyP1Ixa2A9KWVIslD0955XhK",
      "include_colab_link": true
    },
    "kernelspec": {
      "name": "python3",
      "display_name": "Python 3"
    },
    "language_info": {
      "name": "python"
    }
  },
  "cells": [
    {
      "cell_type": "markdown",
      "metadata": {
        "id": "view-in-github",
        "colab_type": "text"
      },
      "source": [
        "<a href=\"https://colab.research.google.com/github/danhillcode/MachineLearning/blob/master/Neural_CardioTraining_Rate.ipynb\" target=\"_parent\"><img src=\"https://colab.research.google.com/assets/colab-badge.svg\" alt=\"Open In Colab\"/></a>"
      ]
    },
    {
      "cell_type": "code",
      "execution_count": 1,
      "metadata": {
        "id": "gQsquJV0Ehuk"
      },
      "outputs": [],
      "source": [
        "import tensorflow as tf\n",
        "import numpy as np\n",
        "import logging\n",
        "logger = tf.get_logger()\n",
        "logger.setLevel(logging.ERROR)\n"
      ]
    },
    {
      "cell_type": "code",
      "source": [
        "# max heart rate\n",
        "age    = np.array([40, 10,  0,  8, 15, 22,  38],  dtype=float)\n",
        "max_rate = np.array([180,  210, 220, 212, 205, 198, 182],  dtype=float)\n",
        "\n",
        "for i,c in enumerate(age):\n",
        "  print(\"{} age = {} max rate\".format(c, max_rate[i]))"
      ],
      "metadata": {
        "colab": {
          "base_uri": "https://localhost:8080/"
        },
        "id": "oNwzxbBSFsFz",
        "outputId": "5eca13f1-252c-4ad5-8fbb-6d86140a4e85"
      },
      "execution_count": 2,
      "outputs": [
        {
          "output_type": "stream",
          "name": "stdout",
          "text": [
            "40.0 age = 180.0 max rate\n",
            "10.0 age = 210.0 max rate\n",
            "0.0 age = 220.0 max rate\n",
            "8.0 age = 212.0 max rate\n",
            "15.0 age = 205.0 max rate\n",
            "22.0 age = 198.0 max rate\n",
            "38.0 age = 182.0 max rate\n"
          ]
        }
      ]
    },
    {
      "cell_type": "code",
      "source": [
        "l0 = tf.keras.layers.Dense(units=1, input_shape=[1])"
      ],
      "metadata": {
        "id": "G75XCHq9HKc7"
      },
      "execution_count": 3,
      "outputs": []
    },
    {
      "cell_type": "code",
      "source": [
        "model = tf.keras.Sequential([l0])"
      ],
      "metadata": {
        "id": "EBQObGcrHL48"
      },
      "execution_count": 4,
      "outputs": []
    },
    {
      "cell_type": "code",
      "source": [
        "model.compile(loss='mean_squared_error',\n",
        "              optimizer=tf.keras.optimizers.Adam(0.0001))"
      ],
      "metadata": {
        "id": "p-GGL9YUHRzu"
      },
      "execution_count": 32,
      "outputs": []
    },
    {
      "cell_type": "code",
      "source": [
        "history = model.fit(age, max_rate, epochs=100, verbose=False)\n",
        "print(\"Finished training the model\")"
      ],
      "metadata": {
        "colab": {
          "base_uri": "https://localhost:8080/"
        },
        "id": "qfnL-PBFHVMS",
        "outputId": "7d5bb7ac-e0e0-464e-97f1-45f550fbecea"
      },
      "execution_count": 33,
      "outputs": [
        {
          "output_type": "stream",
          "name": "stdout",
          "text": [
            "Finished training the model\n"
          ]
        }
      ]
    },
    {
      "cell_type": "code",
      "source": [
        "import matplotlib.pyplot as plt\n",
        "plt.xlabel('Epoch Number')\n",
        "plt.ylabel(\"Loss Magnitude\")\n",
        "plt.plot(history.history['loss'])"
      ],
      "metadata": {
        "colab": {
          "base_uri": "https://localhost:8080/",
          "height": 307
        },
        "id": "BDQY0djFHgON",
        "outputId": "233e7af2-8056-4e2f-f8ab-c658053a6f97"
      },
      "execution_count": 34,
      "outputs": [
        {
          "output_type": "execute_result",
          "data": {
            "text/plain": [
              "[<matplotlib.lines.Line2D at 0x7fac6e301b90>]"
            ]
          },
          "metadata": {},
          "execution_count": 34
        },
        {
          "output_type": "display_data",
          "data": {
            "text/plain": [
              "<Figure size 432x288 with 1 Axes>"
            ],
            "image/png": "[encoded data removed]"
          },
          "metadata": {
            "needs_background": "light"
          }
        }
      ]
    },
    {
      "cell_type": "code",
      "source": [
        "print(model.predict([0]))"
      ],
      "metadata": {
        "colab": {
          "base_uri": "https://localhost:8080/"
        },
        "id": "r7Gou4RCIAYM",
        "outputId": "3f4937d2-59eb-4a92-dba3-203a2e31a363"
      },
      "execution_count": 35,
      "outputs": [
        {
          "output_type": "stream",
          "name": "stdout",
          "text": [
            "[[41.057205]]\n"
          ]
        }
      ]
    },
    {
      "cell_type": "code",
      "source": [
        ""
      ],
      "metadata": {
        "id": "4JhvZEAtJarl"
      },
      "execution_count": null,
      "outputs": []
    },
    {
      "cell_type": "markdown",
      "source": [
        "Prediction not so great for the above "
      ],
      "metadata": {
        "id": "vYRV-uFVJygJ"
      }
    },
    {
      "cell_type": "code",
      "execution_count": 39,
      "metadata": {
        "id": "Y2zTA-rDS5Xk",
        "colab": {
          "base_uri": "https://localhost:8080/"
        },
        "outputId": "f1e342ea-3197-48c9-c2f1-e76c3bad6c7d"
      },
      "outputs": [
        {
          "output_type": "stream",
          "name": "stdout",
          "text": [
            "Finished training the model\n",
            "[[194.23512]]\n",
            "Model predicts that 100 degrees Celsius is: [[139.1628]] degrees Fahrenheit\n",
            "These are the l0 variables: [array([[-0.81652683, -0.06463291,  0.02865098,  0.62286997]],\n",
            "      dtype=float32), array([-5.8162093, -5.828515 ,  5.9335074, -4.901283 ], dtype=float32)]\n",
            "These are the l1 variables: [array([[ 1.801551  ,  1.8039445 ,  0.7485568 , -0.22696654],\n",
            "       [ 1.9149489 ,  2.2363327 ,  0.33292776, -0.9638346 ],\n",
            "       [-2.1690822 , -1.2662724 , -0.07151352,  0.7129134 ],\n",
            "       [ 3.232084  ,  2.0994217 ,  1.5896509 , -1.4298596 ]],\n",
            "      dtype=float32), array([-5.7472973 , -5.4447393 , -0.92791796,  4.7271094 ], dtype=float32)]\n",
            "These are the l2 variables: [array([[-1.7404518 ],\n",
            "       [-1.849255  ],\n",
            "       [-0.48301977],\n",
            "       [ 1.0573804 ]], dtype=float32), array([4.3425717], dtype=float32)]\n"
          ]
        }
      ],
      "source": [
        "l0 = tf.keras.layers.Dense(units=4, input_shape=[1])\n",
        "l1 = tf.keras.layers.Dense(units=4)\n",
        "l2 = tf.keras.layers.Dense(units=1)\n",
        "model = tf.keras.Sequential([l0, l1, l2])\n",
        "model.compile(loss='mean_squared_error', optimizer=tf.keras.optimizers.Adam(0.1))\n",
        "model.fit(age, max_rate, epochs=500, verbose=False)\n",
        "print(\"Finished training the model\")\n",
        "print(model.predict([32.0]))\n",
        "print(\"Model predicts that 100 degrees Celsius is: {} degrees Fahrenheit\".format(model.predict([100.0])))\n",
        "print(\"These are the l0 variables: {}\".format(l0.get_weights()))\n",
        "print(\"These are the l1 variables: {}\".format(l1.get_weights()))\n",
        "print(\"These are the l2 variables: {}\".format(l2.get_weights()))"
      ]
    },
    {
      "cell_type": "markdown",
      "source": [
        "Altered and now it is showing optimal outputs for heart rate max training predicition based on age"
      ],
      "metadata": {
        "id": "ko9GcvHSJ11y"
      }
    }
  ]
}